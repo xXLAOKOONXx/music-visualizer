{
 "cells": [
  {
   "cell_type": "markdown",
   "metadata": {},
   "source": [
    "# Build waver"
   ]
  },
  {
   "cell_type": "markdown",
   "metadata": {},
   "source": [
    "## Inputs"
   ]
  },
  {
   "cell_type": "code",
   "execution_count": 69,
   "metadata": {},
   "outputs": [],
   "source": [
    "input_file = '../testdata/poseidon.mp3'\n",
    "\n",
    "heart_rate_hz = 60 # framerate of the vizualizer in Hz\n",
    "box_groups = 30 # number of boxes for vizualizer\n",
    "\n",
    "image_height = 100 # height of the vizualizer in pixels\n",
    "bit_width = 10 # width of each box in pixels\n",
    "bg_color = (0, 0, 255) # background color\n",
    "fg_color = (0, 0, 128) # foreground color"
   ]
  },
  {
   "cell_type": "code",
   "execution_count": 70,
   "metadata": {},
   "outputs": [],
   "source": [
    "# calculated values\n",
    "wav_file = input_file.replace('.mp3', '.wav')\n",
    "vis_file = input_file.replace('.mp3', '_vis.mp4')\n",
    "combined_file = input_file.replace('.mp3', '.mp4')\n",
    "image_width = bit_width * box_groups"
   ]
  },
  {
   "cell_type": "markdown",
   "metadata": {},
   "source": [
    "## Imports"
   ]
  },
  {
   "cell_type": "code",
   "execution_count": 71,
   "metadata": {},
   "outputs": [],
   "source": [
    "from PIL import Image, ImageDraw\n",
    "import imageio\n",
    "import subprocess\n",
    "import wave\n",
    "import numpy as np\n",
    "from scipy.fftpack import fft\n",
    "from matplotlib import pyplot as plt\n",
    "import math"
   ]
  },
  {
   "cell_type": "markdown",
   "metadata": {},
   "source": [
    "## Build WAV file"
   ]
  },
  {
   "cell_type": "code",
   "execution_count": 72,
   "metadata": {},
   "outputs": [],
   "source": [
    "def convert_mp3_to_wav(input_file, output_file):\n",
    "    command = ['ffmpeg', '-y', '-i', input_file, output_file]\n",
    "    subprocess.run(command)\n",
    "\n",
    "convert_mp3_to_wav(input_file, wav_file)"
   ]
  },
  {
   "cell_type": "markdown",
   "metadata": {},
   "source": [
    "## Analyse WAV"
   ]
  },
  {
   "cell_type": "code",
   "execution_count": 73,
   "metadata": {},
   "outputs": [],
   "source": [
    "w = wave.open(wav_file, 'rb')"
   ]
  },
  {
   "cell_type": "code",
   "execution_count": 74,
   "metadata": {},
   "outputs": [
    {
     "name": "stdout",
     "output_type": "stream",
     "text": [
      "framerate: 48000\n",
      "frame_count: 10022662\n",
      "channels: 2\n",
      "sampwidth: 2\n",
      "first_frame: b'\\x00\\x00\\x00\\x00'\n",
      "cursor_position: 1\n",
      "cursor_position_after_reset: 0\n"
     ]
    }
   ],
   "source": [
    "framerate = w.getframerate()\n",
    "frame_count = w.getnframes()\n",
    "channels = w.getnchannels()\n",
    "sampwidth = w.getsampwidth()\n",
    "first_frame = w.readframes(1)\n",
    "cursor_position = w.tell()\n",
    "w.setpos(0) # reset cursor position\n",
    "cursor_position_after_reset = w.tell()\n",
    "\n",
    "print(f'framerate: {framerate}')\n",
    "print(f'frame_count: {frame_count}')\n",
    "print(f'channels: {channels}')\n",
    "print(f'sampwidth: {sampwidth}')\n",
    "print(f'first_frame: {first_frame}')\n",
    "print(f'cursor_position: {cursor_position}')\n",
    "print(f'cursor_position_after_reset: {cursor_position_after_reset}')"
   ]
  },
  {
   "cell_type": "code",
   "execution_count": 75,
   "metadata": {},
   "outputs": [],
   "source": [
    "def get_frequencies(w:wave.Wave_read, chunk:int, channels:int, sampwidth:int, frame_pos:int):\n",
    "    if chunk > frame_pos:\n",
    "        chunk = frame_pos\n",
    "    w.setpos(frame_pos - chunk)\n",
    "    frames = w.readframes(chunk)\n",
    "    frames = np.frombuffer(frames, dtype=np.int16)\n",
    "    frames = frames.reshape((chunk, channels))\n",
    "    channel_freqs = []\n",
    "    for i in range(channels):\n",
    "        channel_frames = frames[:, i]\n",
    "        channel_fft = fft(channel_frames)\n",
    "        normed_channel_fft = np.abs(channel_fft[0:chunk]) / chunk / 256 / 2\n",
    "        channel_freqs.append(normed_channel_fft)\n",
    "    return sum(channel_freqs) / channels"
   ]
  },
  {
   "cell_type": "code",
   "execution_count": 79,
   "metadata": {},
   "outputs": [
    {
     "name": "stdout",
     "output_type": "stream",
     "text": [
      "lower_bound=21 upper_bound=21 ex=ValueError('invalid number of data points (0) specified')\n"
     ]
    }
   ],
   "source": [
    "freqs = []\n",
    "raw_freqs = []\n",
    "box_root = (framerate / 2) ** (1 / box_groups)\n",
    "for i in range(0, frame_count, framerate // heart_rate_hz):\n",
    "    try:\n",
    "        freq = get_frequencies(w, framerate, channels, sampwidth, i)\n",
    "        raw_freqs.append(freq)\n",
    "        sampled_freqs = []\n",
    "        for i in range(0, box_groups):\n",
    "            lower_bound = int(box_root**i) + 20\n",
    "            upper_bound = int(box_root**(i+1)) + 20\n",
    "            if upper_bound > len(freq):\n",
    "                upper_bound = len(freq)\n",
    "            if lower_bound > len(freq):\n",
    "                sampled_freqs.append(0)\n",
    "                continue\n",
    "            if lower_bound == upper_bound:\n",
    "                lower_bound -= 1\n",
    "            sampled_freqs.append(max(freq[lower_bound:upper_bound]))\n",
    "        freqs.append(sampled_freqs)\n",
    "    except Exception as ex:\n",
    "        print(f'{lower_bound=} {upper_bound=} {ex=}')\n",
    "        raw_freqs.append(None)\n",
    "        freqs.append([0]*box_groups)"
   ]
  },
  {
   "cell_type": "code",
   "execution_count": 80,
   "metadata": {},
   "outputs": [
    {
     "data": {
      "text/plain": [
       "[<matplotlib.lines.Line2D at 0x284453eb070>]"
      ]
     },
     "execution_count": 80,
     "metadata": {},
     "output_type": "execute_result"
    },
    {
     "data": {
      "image/png": "[encoded data removed]",
      "text/plain": [
       "<Figure size 640x480 with 1 Axes>"
      ]
     },
     "metadata": {},
     "output_type": "display_data"
    }
   ],
   "source": [
    "plt.semilogx(raw_freqs[400][20:framerate//2])"
   ]
  },
  {
   "cell_type": "code",
   "execution_count": 83,
   "metadata": {},
   "outputs": [],
   "source": [
    "w.close()"
   ]
  },
  {
   "cell_type": "markdown",
   "metadata": {},
   "source": [
    "## Build mp4"
   ]
  },
  {
   "cell_type": "code",
   "execution_count": 81,
   "metadata": {},
   "outputs": [
    {
     "name": "stderr",
     "output_type": "stream",
     "text": [
      "IMAGEIO FFMPEG_WRITER WARNING: input image is not divisible by macro_block_size=16, resizing from (300, 100) to (304, 112) to ensure video compatibility with most codecs and players. To prevent resizing, make your input image divisible by the macro_block_size or set the macro_block_size to 1 (risking incompatibility).\n"
     ]
    }
   ],
   "source": [
    "image_frames = []\n",
    "for frame in freqs:\n",
    "    im = Image.new('RGB', (image_width, image_height), bg_color)\n",
    "    draw = ImageDraw.Draw(im)\n",
    "    for i, bit in enumerate(frame):\n",
    "        top_border = image_height - image_height*bit\n",
    "        if top_border < 0:\n",
    "            top_border = 0\n",
    "        draw.rectangle([i*bit_width, top_border, (i+1)*bit_width, image_height], fill=fg_color)\n",
    "    image_frames.append(im)\n",
    "\n",
    "imageio.mimsave(vis_file, image_frames, fps=heart_rate_hz)"
   ]
  },
  {
   "cell_type": "code",
   "execution_count": null,
   "metadata": {},
   "outputs": [],
   "source": []
  },
  {
   "cell_type": "markdown",
   "metadata": {},
   "source": [
    "## Combine audio and video"
   ]
  },
  {
   "cell_type": "code",
   "execution_count": 82,
   "metadata": {},
   "outputs": [],
   "source": [
    "import subprocess\n",
    "\n",
    "def combine_audio_video(audio_file, video_file, output_file):\n",
    "    command = ['ffmpeg', '-y', '-i', audio_file, '-i', video_file, '-c:v', 'copy', '-c:a', 'aac', output_file]\n",
    "    subprocess.run(command)\n",
    "\n",
    "# Usage example\n",
    "audio_file = input_file\n",
    "video_file = vis_file\n",
    "output_file = combined_file\n",
    "combine_audio_video(audio_file, video_file, output_file)"
   ]
  }
 ],
 "metadata": {
  "kernelspec": {
   "display_name": "music-visualizer-ewkgZ8Dg-py3.10",
   "language": "python",
   "name": "python3"
  },
  "language_info": {
   "codemirror_mode": {
    "name": "ipython",
    "version": 3
   },
   "file_extension": ".py",
   "mimetype": "text/x-python",
   "name": "python",
   "nbconvert_exporter": "python",
   "pygments_lexer": "ipython3",
   "version": "3.10.2"
  }
 },
 "nbformat": 4,
 "nbformat_minor": 2
}
